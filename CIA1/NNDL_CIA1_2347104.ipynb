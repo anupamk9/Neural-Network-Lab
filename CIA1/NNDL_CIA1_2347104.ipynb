{
  "nbformat": 4,
  "nbformat_minor": 0,
  "metadata": {
    "colab": {
      "provenance": [],
      "gpuType": "V28"
    },
    "kernelspec": {
      "name": "python3",
      "display_name": "Python 3"
    },
    "language_info": {
      "name": "python"
    },
    "accelerator": "TPU"
  },
  "cells": [
    {
      "cell_type": "markdown",
      "source": [
        "\n",
        "# CHRIST (Deemed to be University)\n",
        "## Department of Computer Science\n",
        "\n",
        "\n",
        "## 5MCA-A - Neural Networks and Deep Learning (MCA572)\n",
        "\n",
        "\n",
        "---\n",
        "  \n",
        "### NNDL - CIA -1\n",
        "\n",
        "*LAB TEST*\n",
        "\n",
        "---\n",
        "*Date: 01/10/2024*\n",
        "\n",
        "**Anupam Kumar 2347104**"
      ],
      "metadata": {
        "id": "DZHEYWwKGalg"
      }
    },
    {
      "cell_type": "markdown",
      "source": [
        "# Question 1: XOR Gate Classification"
      ],
      "metadata": {
        "id": "I_Nu5BfC1gEV"
      }
    },
    {
      "cell_type": "markdown",
      "source": [
        "1. Create the XOR Gate's Truth Table Dataset:"
      ],
      "metadata": {
        "id": "nLYSQoAZDhV6"
      }
    },
    {
      "cell_type": "markdown",
      "source": [
        "The XOR gate truth table consists of two inputs and one output. The XOR gate outputs 1 when inputs are different, and 0 when inputs are the same."
      ],
      "metadata": {
        "id": "2AMPTFpzDjxf"
      }
    },
    {
      "cell_type": "code",
      "source": [
        "import numpy as np\n",
        "import pandas as pd\n",
        "\n",
        "# XOR truth table dataset\n",
        "X = np.array([[0, 0], [0, 1], [1, 0], [1, 1]])  # inputs\n",
        "y = np.array([0, 1, 1, 0])  # XOR output\n",
        "\n",
        "# Create a DataFrame\n",
        "df = pd.DataFrame({'Input 1': X[:, 0], 'Input 2': X[:, 1], 'XOR Output': y})\n",
        "\n",
        "# Print the DataFrame without the index\n",
        "print(df.to_string(index=False))\n"
      ],
      "metadata": {
        "colab": {
          "base_uri": "https://localhost:8080/"
        },
        "id": "2gsmW20eDkH7",
        "outputId": "6054351a-9632-4e9a-d885-a5867fe46936"
      },
      "execution_count": 29,
      "outputs": [
        {
          "output_type": "stream",
          "name": "stdout",
          "text": [
            " Input 1  Input 2  XOR Output\n",
            "       0        0           0\n",
            "       0        1           1\n",
            "       1        0           1\n",
            "       1        1           0\n"
          ]
        }
      ]
    },
    {
      "cell_type": "markdown",
      "source": [
        "2. Single Layer Perceptron Using MCP Neuron:"
      ],
      "metadata": {
        "id": "hct75rQyEW7u"
      }
    },
    {
      "cell_type": "code",
      "source": [
        "class Perceptron:\n",
        "    def __init__(self, input_size, epochs=100, learning_rate=0.1):\n",
        "        self.weights = np.zeros(input_size + 1)  # Including bias weight\n",
        "        self.epochs = epochs\n",
        "        self.learning_rate = learning_rate\n",
        "\n",
        "    def activation(self, x):\n",
        "        return 1 if x >= 0 else 0\n",
        "\n",
        "    def predict(self, inputs):\n",
        "        summation = np.dot(inputs, self.weights[1:]) + self.weights[0]\n",
        "        return self.activation(summation)\n",
        "\n",
        "    def train(self, X, y):\n",
        "        for epoch in range(self.epochs):\n",
        "            for inputs, label in zip(X, y):\n",
        "                prediction = self.predict(inputs)\n",
        "                self.weights[1:] += self.learning_rate * (label - prediction) * inputs\n",
        "                self.weights[0] += self.learning_rate * (label - prediction)\n",
        "\n",
        "# Initialize and train the perceptron\n",
        "perceptron = Perceptron(input_size=2)\n",
        "perceptron.train(X, y)\n",
        "\n",
        "# Predictions\n",
        "predictions = [perceptron.predict(x) for x in X]\n",
        "print(\"Predictions by Single Layer Perceptron: \", predictions)\n"
      ],
      "metadata": {
        "colab": {
          "base_uri": "https://localhost:8080/"
        },
        "id": "O6gZzOs3EgiN",
        "outputId": "493def97-97d8-4346-9ff8-be057eb4a2dd"
      },
      "execution_count": 30,
      "outputs": [
        {
          "output_type": "stream",
          "name": "stdout",
          "text": [
            "Predictions by Single Layer Perceptron:  [1, 1, 0, 0]\n"
          ]
        }
      ]
    },
    {
      "cell_type": "markdown",
      "source": [
        "Interpretation (Single Layer Perceptron):\n",
        "A Single Layer Perceptron cannot classify XOR because XOR is not linearly separable. The XOR gate needs more complex decision boundaries than a linear one, and this limitation can be observed by the poor performance of this perceptron."
      ],
      "metadata": {
        "id": "Tj6AUH7PEi6B"
      }
    },
    {
      "cell_type": "markdown",
      "source": [
        "3. Multi-Layer Perceptron for XOR:"
      ],
      "metadata": {
        "id": "7YPAFYYkEjlQ"
      }
    },
    {
      "cell_type": "markdown",
      "source": [
        "An MLP is capable of solving the XOR problem by introducing hidden layers to create non-linear decision boundaries."
      ],
      "metadata": {
        "id": "oFYIQYrjEl51"
      }
    },
    {
      "cell_type": "code",
      "source": [
        "# Importing necessary libraries for MLP\n",
        "import tensorflow as tf\n",
        "from tensorflow.keras.models import Sequential\n",
        "from tensorflow.keras.layers import Dense\n",
        "\n",
        "# Create Multi-Layer Perceptron Model\n",
        "mlp_model = Sequential()\n",
        "mlp_model.add(Dense(4, input_dim=2, activation='relu'))  # Hidden layer with 4 neurons\n",
        "mlp_model.add(Dense(1, activation='sigmoid'))  # Output layer\n",
        "\n",
        "# Compile the model\n",
        "mlp_model.compile(optimizer='adam', loss='binary_crossentropy', metrics=['accuracy'])\n",
        "\n",
        "# Train the model\n",
        "mlp_model.fit(X, y, epochs=100, verbose=0)\n",
        "\n",
        "# Make predictions\n",
        "mlp_predictions = mlp_model.predict(X)\n",
        "mlp_predictions = np.round(mlp_predictions).astype(int).flatten()\n",
        "print(\"Predictions by Multi-Layer Perceptron: \", mlp_predictions)\n"
      ],
      "metadata": {
        "colab": {
          "base_uri": "https://localhost:8080/"
        },
        "id": "wxIa7YT-Eocd",
        "outputId": "f9f035ad-32b3-4289-acd5-9e572795ce57"
      },
      "execution_count": 31,
      "outputs": [
        {
          "output_type": "stream",
          "name": "stdout",
          "text": [
            "1/1 [==============================] - 0s 48ms/step\n",
            "Predictions by Multi-Layer Perceptron:  [1 0 1 0]\n"
          ]
        }
      ]
    },
    {
      "cell_type": "markdown",
      "source": [
        "A Single Layer Perceptron (SLP) is not suitable for XOR due to its inability to solve non-linearly separable problems. However, we can still attempt it and observe the results."
      ],
      "metadata": {
        "id": "gUpRe1OHEXoZ"
      }
    },
    {
      "cell_type": "markdown",
      "source": [
        "3. Multi-Layer Perceptron for XOR:"
      ],
      "metadata": {
        "id": "dapBbMznE1J1"
      }
    },
    {
      "cell_type": "markdown",
      "source": [
        "An MLP is capable of solving the XOR problem by introducing hidden layers to create non-linear decision boundaries."
      ],
      "metadata": {
        "id": "Eistarf8E1iz"
      }
    },
    {
      "cell_type": "code",
      "source": [
        "# Importing necessary libraries for MLP\n",
        "import tensorflow as tf\n",
        "from tensorflow.keras.models import Sequential\n",
        "from tensorflow.keras.layers import Dense\n",
        "\n",
        "# Create Multi-Layer Perceptron Model\n",
        "mlp_model = Sequential()\n",
        "mlp_model.add(Dense(4, input_dim=2, activation='relu'))  # Hidden layer with 4 neurons\n",
        "mlp_model.add(Dense(1, activation='sigmoid'))  # Output layer\n",
        "\n",
        "# Compile the model\n",
        "mlp_model.compile(optimizer='adam', loss='binary_crossentropy', metrics=['accuracy'])\n",
        "\n",
        "# Train the model\n",
        "mlp_model.fit(X, y, epochs=100, verbose=0)\n",
        "\n",
        "# Make predictions\n",
        "mlp_predictions = mlp_model.predict(X)\n",
        "mlp_predictions = np.round(mlp_predictions).astype(int).flatten()\n",
        "print(\"Predictions by Multi-Layer Perceptron: \", mlp_predictions)\n"
      ],
      "metadata": {
        "colab": {
          "base_uri": "https://localhost:8080/"
        },
        "id": "kda-SS2fE3Xm",
        "outputId": "2bf699c9-96a6-4d53-a482-6ee53317f3f8"
      },
      "execution_count": 32,
      "outputs": [
        {
          "output_type": "stream",
          "name": "stdout",
          "text": [
            "1/1 [==============================] - 0s 49ms/step\n",
            "Predictions by Multi-Layer Perceptron:  [1 1 1 0]\n"
          ]
        }
      ]
    },
    {
      "cell_type": "markdown",
      "source": [
        "Interpretation (Multi-Layer Perceptron):\n",
        "The MLP solves the XOR problem by introducing non-linearities with the ReLU activation function in the hidden layer. It can perfectly classify XOR, as seen in the accurate predictions."
      ],
      "metadata": {
        "id": "nMoW2KTGE6Hx"
      }
    },
    {
      "cell_type": "markdown",
      "source": [
        "4. Visualizing the Results:"
      ],
      "metadata": {
        "id": "GaUgWp5UE7QC"
      }
    },
    {
      "cell_type": "markdown",
      "source": [
        "Now, let's visualize the decision boundaries of the Single Layer Perceptron and the Multi-Layer Perceptron."
      ],
      "metadata": {
        "id": "ocNsIBW2FILa"
      }
    },
    {
      "cell_type": "code",
      "source": [
        "# Visualization code for decision boundary\n",
        "def plot_decision_boundary(model, X, y, title):\n",
        "    x_min, x_max = X[:, 0].min() - 0.5, X[:, 0].max() + 0.5\n",
        "    y_min, y_max = X[:, 1].min() - 0.5, X[:, 1].max() + 0.5\n",
        "    xx, yy = np.meshgrid(np.arange(x_min, x_max, 0.01), np.arange(y_min, y_max, 0.01))\n",
        "    Z = np.c_[xx.ravel(), yy.ravel()]\n",
        "\n",
        "    # Predict using the model (for MLP, use the model's predict method)\n",
        "    if isinstance(model, Perceptron):\n",
        "        Z = np.array([model.predict(z) for z in Z])\n",
        "    else:\n",
        "        Z = model.predict(Z)\n",
        "        Z = np.round(Z).astype(int).flatten()\n",
        "\n",
        "    Z = Z.reshape(xx.shape)\n",
        "    plt.contourf(xx, yy, Z, alpha=0.8)\n",
        "    plt.scatter(X[:, 0], X[:, 1], c=y, edgecolors='k', marker='o', s=100)\n",
        "    plt.title(title)\n",
        "    plt.show()\n",
        "\n",
        "# Plotting for Single Layer Perceptron\n",
        "plot_decision_boundary(perceptron, X, y, \"Decision Boundary of Single Layer Perceptron\")\n",
        "\n",
        "# Plotting for Multi-Layer Perceptron\n",
        "plot_decision_boundary(mlp_model, X, y, \"Decision Boundary of Multi-Layer Perceptron\")\n"
      ],
      "metadata": {
        "colab": {
          "base_uri": "https://localhost:8080/",
          "height": 904
        },
        "id": "32eIgmpfFJzc",
        "outputId": "7334cfcc-7342-4087-d490-a667b9e92431"
      },
      "execution_count": 33,
      "outputs": [
        {
          "output_type": "display_data",
          "data": {
            "text/plain": [
              "<Figure size 640x480 with 1 Axes>"
            ],
            "image/png": "[encoded data removed]"
          },
          "metadata": {}
        },
        {
          "output_type": "stream",
          "name": "stdout",
          "text": [
            "1250/1250 [==============================] - 1s 1ms/step\n"
          ]
        },
        {
          "output_type": "display_data",
          "data": {
            "text/plain": [
              "<Figure size 640x480 with 1 Axes>"
            ],
            "image/png": "[encoded data removed]"
          },
          "metadata": {}
        }
      ]
    },
    {
      "cell_type": "markdown",
      "source": [
        "Observations:\n",
        "- The Single Layer Perceptron fails to create a proper decision boundary that can separate the XOR outputs.\n",
        "- The Multi-Layer Perceptron successfully classifies the XOR gate by creating a more complex decision boundary, thanks to the additional hidden layer"
      ],
      "metadata": {
        "id": "GQYa_WSEFM7k"
      }
    },
    {
      "cell_type": "markdown",
      "source": [
        "- Single Layer Perceptron:\n",
        "\n",
        "The Single Layer Perceptron has a linear decision boundary.\n",
        "Since XOR is non-linearly separable, the SLP fails to solve this problem.\n",
        "Despite tuning, this model does not perform well for XOR.\n",
        "- Multi-Layer Perceptron:\n",
        "\n",
        "The introduction of hidden layers allows MLP to solve the XOR problem.\n",
        "The use of non-linear activation functions like ReLU helps the network learn non-linear patterns in the data.\n",
        "The MLP successfully creates a non-linear decision boundary that perfectly classifies the XOR gate outputs.\n",
        "- Conclusion:\n",
        "\n",
        "The XOR problem is an excellent example to show the limitations of a Single Layer Perceptron.\n",
        "A Multi-Layer Perceptron (MLP) is necessary for solving problems where the data is not linearly separable, as it can learn complex relationships in the data."
      ],
      "metadata": {
        "id": "f-U-tY-rF0vX"
      }
    },
    {
      "cell_type": "markdown",
      "source": [
        "# Question 2. B. Sentiment Analysis Using ANN on IMDb Movie Reviews"
      ],
      "metadata": {
        "id": "EuVWh_NB6FBM"
      }
    },
    {
      "cell_type": "markdown",
      "source": [
        "1. Introduction"
      ],
      "metadata": {
        "id": "xQ9H4XrFF6L6"
      }
    },
    {
      "cell_type": "markdown",
      "source": [
        "The XOR gate is known for its complexity, as it outputs 1 only when the inputs are different.\n",
        "This is a challenge for a Single Layer Perceptron since XOR is not linearly separable."
      ],
      "metadata": {
        "id": "ag-3Jjx9F8X4"
      }
    },
    {
      "cell_type": "markdown",
      "source": [
        "2. Importing Required Libraries"
      ],
      "metadata": {
        "id": "Evqd0_1O9_yt"
      }
    },
    {
      "cell_type": "markdown",
      "source": [
        "start by importing the necessary Python libraries for data manipulation, text processing, model building, and visualization."
      ],
      "metadata": {
        "id": "8AbzjbgO-rU4"
      }
    },
    {
      "cell_type": "code",
      "source": [
        "import numpy as np\n",
        "import pandas as pd\n",
        "import matplotlib.pyplot as plt\n",
        "import seaborn as sns\n",
        "import re\n",
        "import nltk\n",
        "from nltk.corpus import stopwords\n",
        "from nltk.stem import WordNetLemmatizer\n",
        "from sklearn.model_selection import train_test_split\n",
        "from sklearn.preprocessing import LabelEncoder\n",
        "from tensorflow.keras.models import Sequential\n",
        "from tensorflow.keras.layers import Dense, Dropout, Embedding, Flatten, BatchNormalization\n",
        "from tensorflow.keras.optimizers import Adam\n",
        "from tensorflow.keras.preprocessing.text import Tokenizer\n",
        "from tensorflow.keras.preprocessing.sequence import pad_sequences\n",
        "from sklearn.metrics import confusion_matrix, classification_report\n",
        "\n",
        "# Download NLTK resources (run once)\n",
        "nltk.download('stopwords')\n",
        "nltk.download('wordnet')\n"
      ],
      "metadata": {
        "colab": {
          "base_uri": "https://localhost:8080/"
        },
        "id": "LdKj21l76GPL",
        "outputId": "1178eb4d-2645-47b4-89af-c9903bfc4869"
      },
      "execution_count": 34,
      "outputs": [
        {
          "output_type": "stream",
          "name": "stderr",
          "text": [
            "[nltk_data] Downloading package stopwords to /root/nltk_data...\n",
            "[nltk_data]   Package stopwords is already up-to-date!\n",
            "[nltk_data] Downloading package wordnet to /root/nltk_data...\n",
            "[nltk_data]   Package wordnet is already up-to-date!\n"
          ]
        },
        {
          "output_type": "execute_result",
          "data": {
            "text/plain": [
              "True"
            ]
          },
          "metadata": {},
          "execution_count": 34
        }
      ]
    },
    {
      "cell_type": "markdown",
      "source": [
        "3. Loading and Trimming the Dataset"
      ],
      "metadata": {
        "id": "d37v4bgH-EO0"
      }
    },
    {
      "cell_type": "code",
      "source": [
        "# Load IMDb dataset\n",
        "data = pd.read_csv('/content/drive/MyDrive/Trimester5/NNDL/IMDB Dataset.csv')\n",
        "\n",
        "# Optional: Trim dataset for demonstration purposes\n",
        "#data = data.sample(20000, random_state=42)\n",
        "\n",
        "# Preview dataset\n",
        "data.head()\n"
      ],
      "metadata": {
        "colab": {
          "base_uri": "https://localhost:8080/",
          "height": 206
        },
        "id": "CWz7-ORO-ozz",
        "outputId": "8b8a9ad3-ff69-48ff-94a2-5027f1aad412"
      },
      "execution_count": 35,
      "outputs": [
        {
          "output_type": "execute_result",
          "data": {
            "text/plain": [
              "                                              review sentiment\n",
              "0  One of the other reviewers has mentioned that ...  positive\n",
              "1  A wonderful little production. <br /><br />The...  positive\n",
              "2  I thought this was a wonderful way to spend ti...  positive\n",
              "3  Basically there's a family where a little boy ...  negative\n",
              "4  Petter Mattei's \"Love in the Time of Money\" is...  positive"
            ],
            "text/html": [
              "\n",
              "  <div id=\"df-9d080f97-9ce8-4ed6-9df3-ac6a65fdccdd\" class=\"colab-df-container\">\n",
              "    <div>\n",
              "<style scoped>\n",
              "    .dataframe tbody tr th:only-of-type {\n",
              "        vertical-align: middle;\n",
              "    }\n",
              "\n",
              "    .dataframe tbody tr th {\n",
              "        vertical-align: top;\n",
              "    }\n",
              "\n",
              "    .dataframe thead th {\n",
              "        text-align: right;\n",
              "    }\n",
              "</style>\n",
              "<table border=\"1\" class=\"dataframe\">\n",
              "  <thead>\n",
              "    <tr style=\"text-align: right;\">\n",
              "      <th></th>\n",
              "      <th>review</th>\n",
              "      <th>sentiment</th>\n",
              "    </tr>\n",
              "  </thead>\n",
              "  <tbody>\n",
              "    <tr>\n",
              "      <th>0</th>\n",
              "      <td>One of the other reviewers has mentioned that ...</td>\n",
              "      <td>positive</td>\n",
              "    </tr>\n",
              "    <tr>\n",
              "      <th>1</th>\n",
              "      <td>A wonderful little production. &lt;br /&gt;&lt;br /&gt;The...</td>\n",
              "      <td>positive</td>\n",
              "    </tr>\n",
              "    <tr>\n",
              "      <th>2</th>\n",
              "      <td>I thought this was a wonderful way to spend ti...</td>\n",
              "      <td>positive</td>\n",
              "    </tr>\n",
              "    <tr>\n",
              "      <th>3</th>\n",
              "      <td>Basically there's a family where a little boy ...</td>\n",
              "      <td>negative</td>\n",
              "    </tr>\n",
              "    <tr>\n",
              "      <th>4</th>\n",
              "      <td>Petter Mattei's \"Love in the Time of Money\" is...</td>\n",
              "      <td>positive</td>\n",
              "    </tr>\n",
              "  </tbody>\n",
              "</table>\n",
              "</div>\n",
              "    <div class=\"colab-df-buttons\">\n",
              "\n",
              "  <div class=\"colab-df-container\">\n",
              "    <button class=\"colab-df-convert\" onclick=\"convertToInteractive('df-9d080f97-9ce8-4ed6-9df3-ac6a65fdccdd')\"\n",
              "            title=\"Convert this dataframe to an interactive table.\"\n",
              "            style=\"display:none;\">\n",
              "\n",
              "  <svg xmlns=\"http://www.w3.org/2000/svg\" height=\"24px\" viewBox=\"0 -960 960 960\">\n",
              "    <path d=\"M120-120v-720h720v720H120Zm60-500h600v-160H180v160Zm220 220h160v-160H400v160Zm0 220h160v-160H400v160ZM180-400h160v-160H180v160Zm440 0h160v-160H620v160ZM180-180h160v-160H180v160Zm440 0h160v-160H620v160Z\"/>\n",
              "  </svg>\n",
              "    </button>\n",
              "\n",
              "  <style>\n",
              "    .colab-df-container {\n",
              "      display:flex;\n",
              "      gap: 12px;\n",
              "    }\n",
              "\n",
              "    .colab-df-convert {\n",
              "      background-color: #E8F0FE;\n",
              "      border: none;\n",
              "      border-radius: 50%;\n",
              "      cursor: pointer;\n",
              "      display: none;\n",
              "      fill: #1967D2;\n",
              "      height: 32px;\n",
              "      padding: 0 0 0 0;\n",
              "      width: 32px;\n",
              "    }\n",
              "\n",
              "    .colab-df-convert:hover {\n",
              "      background-color: #E2EBFA;\n",
              "      box-shadow: 0px 1px 2px rgba(60, 64, 67, 0.3), 0px 1px 3px 1px rgba(60, 64, 67, 0.15);\n",
              "      fill: #174EA6;\n",
              "    }\n",
              "\n",
              "    .colab-df-buttons div {\n",
              "      margin-bottom: 4px;\n",
              "    }\n",
              "\n",
              "    [theme=dark] .colab-df-convert {\n",
              "      background-color: #3B4455;\n",
              "      fill: #D2E3FC;\n",
              "    }\n",
              "\n",
              "    [theme=dark] .colab-df-convert:hover {\n",
              "      background-color: #434B5C;\n",
              "      box-shadow: 0px 1px 3px 1px rgba(0, 0, 0, 0.15);\n",
              "      filter: drop-shadow(0px 1px 2px rgba(0, 0, 0, 0.3));\n",
              "      fill: #FFFFFF;\n",
              "    }\n",
              "  </style>\n",
              "\n",
              "    <script>\n",
              "      const buttonEl =\n",
              "        document.querySelector('#df-9d080f97-9ce8-4ed6-9df3-ac6a65fdccdd button.colab-df-convert');\n",
              "      buttonEl.style.display =\n",
              "        google.colab.kernel.accessAllowed ? 'block' : 'none';\n",
              "\n",
              "      async function convertToInteractive(key) {\n",
              "        const element = document.querySelector('#df-9d080f97-9ce8-4ed6-9df3-ac6a65fdccdd');\n",
              "        const dataTable =\n",
              "          await google.colab.kernel.invokeFunction('convertToInteractive',\n",
              "                                                    [key], {});\n",
              "        if (!dataTable) return;\n",
              "\n",
              "        const docLinkHtml = 'Like what you see? Visit the ' +\n",
              "          '<a target=\"_blank\" href=https://colab.research.google.com/notebooks/data_table.ipynb>data table notebook</a>'\n",
              "          + ' to learn more about interactive tables.';\n",
              "        element.innerHTML = '';\n",
              "        dataTable['output_type'] = 'display_data';\n",
              "        await google.colab.output.renderOutput(dataTable, element);\n",
              "        const docLink = document.createElement('div');\n",
              "        docLink.innerHTML = docLinkHtml;\n",
              "        element.appendChild(docLink);\n",
              "      }\n",
              "    </script>\n",
              "  </div>\n",
              "\n",
              "\n",
              "<div id=\"df-c3c8ef4e-7bb7-4759-b09c-6e57a1bb66cf\">\n",
              "  <button class=\"colab-df-quickchart\" onclick=\"quickchart('df-c3c8ef4e-7bb7-4759-b09c-6e57a1bb66cf')\"\n",
              "            title=\"Suggest charts\"\n",
              "            style=\"display:none;\">\n",
              "\n",
              "<svg xmlns=\"http://www.w3.org/2000/svg\" height=\"24px\"viewBox=\"0 0 24 24\"\n",
              "     width=\"24px\">\n",
              "    <g>\n",
              "        <path d=\"M19 3H5c-1.1 0-2 .9-2 2v14c0 1.1.9 2 2 2h14c1.1 0 2-.9 2-2V5c0-1.1-.9-2-2-2zM9 17H7v-7h2v7zm4 0h-2V7h2v10zm4 0h-2v-4h2v4z\"/>\n",
              "    </g>\n",
              "</svg>\n",
              "  </button>\n",
              "\n",
              "<style>\n",
              "  .colab-df-quickchart {\n",
              "      --bg-color: #E8F0FE;\n",
              "      --fill-color: #1967D2;\n",
              "      --hover-bg-color: #E2EBFA;\n",
              "      --hover-fill-color: #174EA6;\n",
              "      --disabled-fill-color: #AAA;\n",
              "      --disabled-bg-color: #DDD;\n",
              "  }\n",
              "\n",
              "  [theme=dark] .colab-df-quickchart {\n",
              "      --bg-color: #3B4455;\n",
              "      --fill-color: #D2E3FC;\n",
              "      --hover-bg-color: #434B5C;\n",
              "      --hover-fill-color: #FFFFFF;\n",
              "      --disabled-bg-color: #3B4455;\n",
              "      --disabled-fill-color: #666;\n",
              "  }\n",
              "\n",
              "  .colab-df-quickchart {\n",
              "    background-color: var(--bg-color);\n",
              "    border: none;\n",
              "    border-radius: 50%;\n",
              "    cursor: pointer;\n",
              "    display: none;\n",
              "    fill: var(--fill-color);\n",
              "    height: 32px;\n",
              "    padding: 0;\n",
              "    width: 32px;\n",
              "  }\n",
              "\n",
              "  .colab-df-quickchart:hover {\n",
              "    background-color: var(--hover-bg-color);\n",
              "    box-shadow: 0 1px 2px rgba(60, 64, 67, 0.3), 0 1px 3px 1px rgba(60, 64, 67, 0.15);\n",
              "    fill: var(--button-hover-fill-color);\n",
              "  }\n",
              "\n",
              "  .colab-df-quickchart-complete:disabled,\n",
              "  .colab-df-quickchart-complete:disabled:hover {\n",
              "    background-color: var(--disabled-bg-color);\n",
              "    fill: var(--disabled-fill-color);\n",
              "    box-shadow: none;\n",
              "  }\n",
              "\n",
              "  .colab-df-spinner {\n",
              "    border: 2px solid var(--fill-color);\n",
              "    border-color: transparent;\n",
              "    border-bottom-color: var(--fill-color);\n",
              "    animation:\n",
              "      spin 1s steps(1) infinite;\n",
              "  }\n",
              "\n",
              "  @keyframes spin {\n",
              "    0% {\n",
              "      border-color: transparent;\n",
              "      border-bottom-color: var(--fill-color);\n",
              "      border-left-color: var(--fill-color);\n",
              "    }\n",
              "    20% {\n",
              "      border-color: transparent;\n",
              "      border-left-color: var(--fill-color);\n",
              "      border-top-color: var(--fill-color);\n",
              "    }\n",
              "    30% {\n",
              "      border-color: transparent;\n",
              "      border-left-color: var(--fill-color);\n",
              "      border-top-color: var(--fill-color);\n",
              "      border-right-color: var(--fill-color);\n",
              "    }\n",
              "    40% {\n",
              "      border-color: transparent;\n",
              "      border-right-color: var(--fill-color);\n",
              "      border-top-color: var(--fill-color);\n",
              "    }\n",
              "    60% {\n",
              "      border-color: transparent;\n",
              "      border-right-color: var(--fill-color);\n",
              "    }\n",
              "    80% {\n",
              "      border-color: transparent;\n",
              "      border-right-color: var(--fill-color);\n",
              "      border-bottom-color: var(--fill-color);\n",
              "    }\n",
              "    90% {\n",
              "      border-color: transparent;\n",
              "      border-bottom-color: var(--fill-color);\n",
              "    }\n",
              "  }\n",
              "</style>\n",
              "\n",
              "  <script>\n",
              "    async function quickchart(key) {\n",
              "      const quickchartButtonEl =\n",
              "        document.querySelector('#' + key + ' button');\n",
              "      quickchartButtonEl.disabled = true;  // To prevent multiple clicks.\n",
              "      quickchartButtonEl.classList.add('colab-df-spinner');\n",
              "      try {\n",
              "        const charts = await google.colab.kernel.invokeFunction(\n",
              "            'suggestCharts', [key], {});\n",
              "      } catch (error) {\n",
              "        console.error('Error during call to suggestCharts:', error);\n",
              "      }\n",
              "      quickchartButtonEl.classList.remove('colab-df-spinner');\n",
              "      quickchartButtonEl.classList.add('colab-df-quickchart-complete');\n",
              "    }\n",
              "    (() => {\n",
              "      let quickchartButtonEl =\n",
              "        document.querySelector('#df-c3c8ef4e-7bb7-4759-b09c-6e57a1bb66cf button');\n",
              "      quickchartButtonEl.style.display =\n",
              "        google.colab.kernel.accessAllowed ? 'block' : 'none';\n",
              "    })();\n",
              "  </script>\n",
              "</div>\n",
              "\n",
              "    </div>\n",
              "  </div>\n"
            ],
            "application/vnd.google.colaboratory.intrinsic+json": {
              "type": "dataframe",
              "variable_name": "data",
              "summary": "{\n  \"name\": \"data\",\n  \"rows\": 50000,\n  \"fields\": [\n    {\n      \"column\": \"review\",\n      \"properties\": {\n        \"dtype\": \"string\",\n        \"num_unique_values\": 49582,\n        \"samples\": [\n          \"\\\"Soul Plane\\\" is a horrible attempt at comedy that only should appeal people with thick skulls, bloodshot eyes and furry pawns. <br /><br />The plot is not only incoherent but also non-existent, acting is mostly sub sub-par with a gang of highly moronic and dreadful characters thrown in for bad measure, jokes are often spotted miles ahead and almost never even a bit amusing. This movie lacks any structure and is full of racial stereotypes that must have seemed old even in the fifties, the only thing it really has going for it is some pretty ladies, but really, if you want that you can rent something from the \\\"Adult\\\" section. OK?<br /><br />I can hardly see anything here to recommend since you'll probably have a lot a better and productive time chasing rats with a sledgehammer or inventing waterproof teabags or whatever.<br /><br />2/10\",\n          \"Guest from the Future tells a fascinating story of time travel, friendship, battle of good and evil -- all with a small budget, child actors, and few special effects. Something for Spielberg and Lucas to learn from. ;) A sixth-grader Kolya \\\"Nick\\\" Gerasimov finds a time machine in the basement of a decrepit building and travels 100 years into the future. He discovers a near-perfect, utopian society where robots play guitars and write poetry, everyone is kind to each other and people enjoy everything technology has to offer. Alice is the daughter of a prominent scientist who invented a device called Mielophone that allows to read minds of humans and animals. The device can be put to both good and bad use, depending on whose hands it falls into. When two evil space pirates from Saturn who want to rule the universe attempt to steal Mielophone, it falls into the hands of 20th century school boy Nick. With the pirates hot on his tracks, he travels back to his time, followed by the pirates, and Alice. Chaos, confusion and funny situations follow as the luckless pirates try to blend in with the earthlings. Alice enrolls in the same school Nick goes to and demonstrates superhuman abilities in PE class. The catch is, Alice doesn't know what Nick looks like, while the pirates do. Also, the pirates are able to change their appearance and turn literally into anyone. (Hmm, I wonder if this is where James Cameron got the idea for Terminator...) Who gets to Nick -- and Mielophone -- first? Excellent plot, non-stop adventures, and great soundtrack. I wish Hollywood made kid movies like this one...\",\n          \"\\\"National Treasure\\\" (2004) is a thoroughly misguided hodge-podge of plot entanglements that borrow from nearly every cloak and dagger government conspiracy clich\\u00e9 that has ever been written. The film stars Nicholas Cage as Benjamin Franklin Gates (how precious is that, I ask you?); a seemingly normal fellow who, for no other reason than being of a lineage of like-minded misguided fortune hunters, decides to steal a 'national treasure' that has been hidden by the United States founding fathers. After a bit of subtext and background that plays laughably (unintentionally) like Indiana Jones meets The Patriot, the film degenerates into one misguided whimsy after another \\u0096 attempting to create a 'Stanley Goodspeed' regurgitation of Nicholas Cage and launch the whole convoluted mess forward with a series of high octane, but disconnected misadventures.<br /><br />The relevancy and logic to having George Washington and his motley crew of patriots burying a king's ransom someplace on native soil, and then, going through the meticulous plan of leaving clues scattered throughout U.S. currency art work, is something that director Jon Turteltaub never quite gets around to explaining. Couldn't Washington found better usage for such wealth during the start up of the country? Hence, we are left with a mystery built on top of an enigma that is already on shaky ground by the time Ben appoints himself the new custodian of this untold wealth. Ben's intentions are noble \\u0096 if confusing. He's set on protecting the treasure. For who and when?\\u0085your guess is as good as mine.<br /><br />But there are a few problems with Ben's crusade. First up, his friend, Ian Holmes (Sean Bean) decides that he can't wait for Ben to make up his mind about stealing the Declaration of Independence from the National Archives (oh, yeah \\u0096 brilliant idea!). Presumably, the back of that famous document holds the secret answer to the ultimate fortune. So Ian tries to kill Ben. The assassination attempt is, of course, unsuccessful, if overly melodramatic. It also affords Ben the opportunity to pick up, and pick on, the very sultry curator of the archives, Abigail Chase (Diane Kruger). She thinks Ben is clearly a nut \\u0096 at least at the beginning. But true to action/romance form, Abby's resolve melts quicker than you can say, \\\"is that the Hope Diamond?\\\" The film moves into full X-File-ish mode, as the FBI, mistakenly believing that Ben is behind the theft, retaliate in various benign ways that lead to a multi-layering of action sequences reminiscent of Mission Impossible meets The Fugitive. Honestly, don't those guys ever get 'intelligence' information that is correct? In the final analysis, \\\"National Treasure\\\" isn't great film making, so much as it's a patchwork rehash of tired old bits from other movies, woven together from scraps, the likes of which would make IL' Betsy Ross blush.<br /><br />The Buena Vista DVD delivers a far more generous treatment than this film is deserving of. The anamorphic widescreen picture exhibits a very smooth and finely detailed image with very rich colors, natural flesh tones, solid blacks and clean whites. The stylized image is also free of blemishes and digital enhancements. The audio is 5.1 and delivers a nice sonic boom to your side and rear speakers with intensity and realism. Extras include a host of promotional junket material that is rather deep and over the top in its explanation of how and why this film was made. If only, as an audience, we had had more clarification as to why Ben and co. were chasing after an illusive treasure, this might have been one good flick. Extras conclude with the theatrical trailer, audio commentary and deleted scenes. Not for the faint-hearted \\u0096 just the thick-headed.\"\n        ],\n        \"semantic_type\": \"\",\n        \"description\": \"\"\n      }\n    },\n    {\n      \"column\": \"sentiment\",\n      \"properties\": {\n        \"dtype\": \"category\",\n        \"num_unique_values\": 2,\n        \"samples\": [\n          \"negative\",\n          \"positive\"\n        ],\n        \"semantic_type\": \"\",\n        \"description\": \"\"\n      }\n    }\n  ]\n}"
            }
          },
          "metadata": {},
          "execution_count": 35
        }
      ]
    },
    {
      "cell_type": "markdown",
      "source": [
        "4. Exploratory Data Analysis (EDA)"
      ],
      "metadata": {
        "id": "_vn7fTGC-u_I"
      }
    },
    {
      "cell_type": "markdown",
      "source": [
        "4.1 Sentiment Labels Distribution"
      ],
      "metadata": {
        "id": "IAAT43CG-vmK"
      }
    },
    {
      "cell_type": "markdown",
      "source": [
        "It's important to check whether the dataset is balanced or skewed in terms of sentiment labels. This step gives us an idea about the label distribution in the dataset."
      ],
      "metadata": {
        "id": "GP2QInmK-9gC"
      }
    },
    {
      "cell_type": "code",
      "source": [
        "# Plot class distribution\n",
        "sns.countplot(x='sentiment', data=data, palette='coolwarm')\n",
        "plt.title(\"Sentiment Labels Distribution\")\n",
        "plt.xlabel(\"Sentiment\")\n",
        "plt.ylabel(\"Count\")\n",
        "plt.show()\n",
        "\n",
        "# Display value counts\n",
        "print(\"Sentiment Label Counts:\\n\", data['sentiment'].value_counts())\n"
      ],
      "metadata": {
        "colab": {
          "base_uri": "https://localhost:8080/",
          "height": 646
        },
        "id": "Z1JGZGXg-zHt",
        "outputId": "4c41ff68-6089-4b51-c38f-ea5f622ad27a"
      },
      "execution_count": 36,
      "outputs": [
        {
          "output_type": "stream",
          "name": "stderr",
          "text": [
            "<ipython-input-36-735cd8685f6f>:2: FutureWarning: \n",
            "\n",
            "Passing `palette` without assigning `hue` is deprecated and will be removed in v0.14.0. Assign the `x` variable to `hue` and set `legend=False` for the same effect.\n",
            "\n",
            "  sns.countplot(x='sentiment', data=data, palette='coolwarm')\n"
          ]
        },
        {
          "output_type": "display_data",
          "data": {
            "text/plain": [
              "<Figure size 640x480 with 1 Axes>"
            ],
            "image/png": "[encoded data removed]"
          },
          "metadata": {}
        },
        {
          "output_type": "stream",
          "name": "stdout",
          "text": [
            "Sentiment Label Counts:\n",
            " sentiment\n",
            "positive    25000\n",
            "negative    25000\n",
            "Name: count, dtype: int64\n"
          ]
        }
      ]
    },
    {
      "cell_type": "markdown",
      "source": [
        "Insight: A balanced dataset ensures that the model learns both positive and negative sentiments without bias."
      ],
      "metadata": {
        "id": "63gVnvXt_Oof"
      }
    },
    {
      "cell_type": "markdown",
      "source": [
        "4.2 Review Length Analysis"
      ],
      "metadata": {
        "id": "njO1ywvh_PVb"
      }
    },
    {
      "cell_type": "markdown",
      "source": [
        "Understanding the length of reviews helps determine appropriate padding for the input sequences. We'll analyze the word count for each review."
      ],
      "metadata": {
        "id": "HboC0-qj_SkE"
      }
    },
    {
      "cell_type": "code",
      "source": [
        "# Calculate word counts\n",
        "data['word_count'] = data['review'].apply(lambda x: len(x.split()))\n",
        "\n",
        "# Plot distribution of word counts\n",
        "sns.histplot(data['word_count'], bins=50, kde=True, color='darkblue')\n",
        "plt.title('Distribution of Word Counts per Review')\n",
        "plt.xlabel('Word Count')\n",
        "plt.ylabel('Frequency')\n",
        "plt.show()\n",
        "\n",
        "# Describe word counts\n",
        "print(\"Word Count Statistics:\\n\", data['word_count'].describe())\n"
      ],
      "metadata": {
        "colab": {
          "base_uri": "https://localhost:8080/",
          "height": 646
        },
        "id": "wl0te4sz_ImM",
        "outputId": "1b1aaf39-bfae-42bc-e741-0fe4e732f4dd"
      },
      "execution_count": 37,
      "outputs": [
        {
          "output_type": "display_data",
          "data": {
            "text/plain": [
              "<Figure size 640x480 with 1 Axes>"
            ],
            "image/png": "[encoded data removed]"
          },
          "metadata": {}
        },
        {
          "output_type": "stream",
          "name": "stdout",
          "text": [
            "Word Count Statistics:\n",
            " count    50000.000000\n",
            "mean       231.156940\n",
            "std        171.343997\n",
            "min          4.000000\n",
            "25%        126.000000\n",
            "50%        173.000000\n",
            "75%        280.000000\n",
            "max       2470.000000\n",
            "Name: word_count, dtype: float64\n"
          ]
        }
      ]
    },
    {
      "cell_type": "markdown",
      "source": [
        "Insight: The distribution of word counts shows the average length of reviews and helps determine the max_sequence_length for padding."
      ],
      "metadata": {
        "id": "QpVIFLpN_XH2"
      }
    },
    {
      "cell_type": "markdown",
      "source": [
        "4.3 Sample Review Visualization"
      ],
      "metadata": {
        "id": "LYZRSLYh_Xx6"
      }
    },
    {
      "cell_type": "markdown",
      "source": [
        "To further explore the data, we can check a few samples of positive and negative reviews."
      ],
      "metadata": {
        "id": "TEPQZsk2_ZEE"
      }
    },
    {
      "cell_type": "code",
      "source": [
        "# Display a sample positive and negative review\n",
        "print(\"Sample Positive Review:\\n\", data[data['sentiment']=='positive']['review'].iloc[0])\n",
        "print(\"\\nSample Negative Review:\\n\", data[data['sentiment']=='negative']['review'].iloc[0])\n"
      ],
      "metadata": {
        "colab": {
          "base_uri": "https://localhost:8080/"
        },
        "id": "SzG3Wxs3_ale",
        "outputId": "108ea1b4-c913-4d78-ca49-b4cbee6b5fe5"
      },
      "execution_count": 38,
      "outputs": [
        {
          "output_type": "stream",
          "name": "stdout",
          "text": [
            "Sample Positive Review:\n",
            " One of the other reviewers has mentioned that after watching just 1 Oz episode you'll be hooked. They are right, as this is exactly what happened with me.<br /><br />The first thing that struck me about Oz was its brutality and unflinching scenes of violence, which set in right from the word GO. Trust me, this is not a show for the faint hearted or timid. This show pulls no punches with regards to drugs, sex or violence. Its is hardcore, in the classic use of the word.<br /><br />It is called OZ as that is the nickname given to the Oswald Maximum Security State Penitentary. It focuses mainly on Emerald City, an experimental section of the prison where all the cells have glass fronts and face inwards, so privacy is not high on the agenda. Em City is home to many..Aryans, Muslims, gangstas, Latinos, Christians, Italians, Irish and more....so scuffles, death stares, dodgy dealings and shady agreements are never far away.<br /><br />I would say the main appeal of the show is due to the fact that it goes where other shows wouldn't dare. Forget pretty pictures painted for mainstream audiences, forget charm, forget romance...OZ doesn't mess around. The first episode I ever saw struck me as so nasty it was surreal, I couldn't say I was ready for it, but as I watched more, I developed a taste for Oz, and got accustomed to the high levels of graphic violence. Not just violence, but injustice (crooked guards who'll be sold out for a nickel, inmates who'll kill on order and get away with it, well mannered, middle class inmates being turned into prison bitches due to their lack of street skills or prison experience) Watching Oz, you may become comfortable with what is uncomfortable viewing....thats if you can get in touch with your darker side.\n",
            "\n",
            "Sample Negative Review:\n",
            " Basically there's a family where a little boy (Jake) thinks there's a zombie in his closet & his parents are fighting all the time.<br /><br />This movie is slower than a soap opera... and suddenly, Jake decides to become Rambo and kill the zombie.<br /><br />OK, first of all when you're going to make a film you must Decide if its a thriller or a drama! As a drama the movie is watchable. Parents are divorcing & arguing like in real life. And then we have Jake with his closet which totally ruins all the film! I expected to see a BOOGEYMAN similar movie, and instead i watched a drama with some meaningless thriller spots.<br /><br />3 out of 10 just for the well playing parents & descent dialogs. As for the shots with Jake: just ignore them.\n"
          ]
        }
      ]
    },
    {
      "cell_type": "markdown",
      "source": [
        "Insight: This allows us to manually inspect the structure and content of the reviews."
      ],
      "metadata": {
        "id": "GGBjUyty_eA3"
      }
    },
    {
      "cell_type": "markdown",
      "source": [
        "5. Data Preprocessing"
      ],
      "metadata": {
        "id": "d9O9PaD6_ek7"
      }
    },
    {
      "cell_type": "markdown",
      "source": [
        "5.1 Text Cleaning"
      ],
      "metadata": {
        "id": "U0_XziSi_gfV"
      }
    },
    {
      "cell_type": "markdown",
      "source": [
        "Raw reviews often contain HTML tags, special characters, and stop words. We'll clean the text by removing these components, and we'll lemmatize the words to normalize them."
      ],
      "metadata": {
        "id": "oh7klMNL_htL"
      }
    },
    {
      "cell_type": "code",
      "source": [
        "# Initialize lemmatizer and stopwords\n",
        "lemmatizer = WordNetLemmatizer()\n",
        "stop_words = set(stopwords.words('english'))\n",
        "\n",
        "# Function to clean text\n",
        "def clean_text(text):\n",
        "    # Remove HTML tags\n",
        "    text = re.sub(r'<.*?>', '', text)\n",
        "    # Remove non-alphabetic characters\n",
        "    text = re.sub(r'[^a-zA-Z]', ' ', text)\n",
        "    # Lowercase and split\n",
        "    words = text.lower().split()\n",
        "    # Remove stopwords and lemmatize\n",
        "    words = [lemmatizer.lemmatize(w) for w in words if w not in stop_words]\n",
        "    # Join words back into one string\n",
        "    return ' '.join(words)\n",
        "\n",
        "# Apply cleaning function\n",
        "data['cleaned_review'] = data['review'].apply(clean_text)"
      ],
      "metadata": {
        "id": "Sexsbhq3_r73"
      },
      "execution_count": 39,
      "outputs": []
    },
    {
      "cell_type": "markdown",
      "source": [
        "5.2 Encode Sentiment Labels"
      ],
      "metadata": {
        "id": "6BgM3DjJ_j87"
      }
    },
    {
      "cell_type": "markdown",
      "source": [
        "We'll convert the sentiment labels from text (\"positive\" or \"negative\") into numeric values for modeling (1 for positive, 0 for negative)."
      ],
      "metadata": {
        "id": "HPlvFthm_vhU"
      }
    },
    {
      "cell_type": "code",
      "source": [
        "# Encode labels: positive -> 1, negative -> 0\n",
        "label_encoder = LabelEncoder()\n",
        "data['sentiment'] = label_encoder.fit_transform(data['sentiment'])\n"
      ],
      "metadata": {
        "id": "iigCF8hk_yDm"
      },
      "execution_count": 40,
      "outputs": []
    },
    {
      "cell_type": "markdown",
      "source": [
        "5.3 Tokenization and Padding"
      ],
      "metadata": {
        "id": "8rWQwNuV_ynQ"
      }
    },
    {
      "cell_type": "markdown",
      "source": [
        "Since machine learning models require numeric input, we'll tokenize the cleaned reviews, converting them into sequences of integers. We also pad the sequences to ensure uniform input size."
      ],
      "metadata": {
        "id": "LQq012dkAKn-"
      }
    },
    {
      "cell_type": "code",
      "source": [
        "# Tokenize text data\n",
        "tokenizer = Tokenizer(num_words=10000)\n",
        "tokenizer.fit_on_texts(data['cleaned_review'])\n",
        "sequences = tokenizer.texts_to_sequences(data['cleaned_review'])\n",
        "\n",
        "# Determine maximum sequence length\n",
        "max_sequence_length = 250\n",
        "\n",
        "# Pad sequences\n",
        "X = pad_sequences(sequences, maxlen=max_sequence_length)\n",
        "\n",
        "# Target variable\n",
        "y = data['sentiment']\n",
        "data['cleaned_review'].head()"
      ],
      "metadata": {
        "colab": {
          "base_uri": "https://localhost:8080/",
          "height": 241
        },
        "id": "YXTaKqH8AK_q",
        "outputId": "a18b1bb9-633c-4d59-899c-a4c6c9a4dea3"
      },
      "execution_count": 41,
      "outputs": [
        {
          "output_type": "execute_result",
          "data": {
            "text/plain": [
              "0    one reviewer mentioned watching oz episode hoo...\n",
              "1    wonderful little production filming technique ...\n",
              "2    thought wonderful way spend time hot summer we...\n",
              "3    basically family little boy jake think zombie ...\n",
              "4    petter mattei love time money visually stunnin...\n",
              "Name: cleaned_review, dtype: object"
            ],
            "text/html": [
              "<div>\n",
              "<style scoped>\n",
              "    .dataframe tbody tr th:only-of-type {\n",
              "        vertical-align: middle;\n",
              "    }\n",
              "\n",
              "    .dataframe tbody tr th {\n",
              "        vertical-align: top;\n",
              "    }\n",
              "\n",
              "    .dataframe thead th {\n",
              "        text-align: right;\n",
              "    }\n",
              "</style>\n",
              "<table border=\"1\" class=\"dataframe\">\n",
              "  <thead>\n",
              "    <tr style=\"text-align: right;\">\n",
              "      <th></th>\n",
              "      <th>cleaned_review</th>\n",
              "    </tr>\n",
              "  </thead>\n",
              "  <tbody>\n",
              "    <tr>\n",
              "      <th>0</th>\n",
              "      <td>one reviewer mentioned watching oz episode hoo...</td>\n",
              "    </tr>\n",
              "    <tr>\n",
              "      <th>1</th>\n",
              "      <td>wonderful little production filming technique ...</td>\n",
              "    </tr>\n",
              "    <tr>\n",
              "      <th>2</th>\n",
              "      <td>thought wonderful way spend time hot summer we...</td>\n",
              "    </tr>\n",
              "    <tr>\n",
              "      <th>3</th>\n",
              "      <td>basically family little boy jake think zombie ...</td>\n",
              "    </tr>\n",
              "    <tr>\n",
              "      <th>4</th>\n",
              "      <td>petter mattei love time money visually stunnin...</td>\n",
              "    </tr>\n",
              "  </tbody>\n",
              "</table>\n",
              "</div><br><label><b>dtype:</b> object</label>"
            ]
          },
          "metadata": {},
          "execution_count": 41
        }
      ]
    },
    {
      "cell_type": "markdown",
      "source": [
        "5.4 Train-Test Split"
      ],
      "metadata": {
        "id": "apDUj6pcAQGG"
      }
    },
    {
      "cell_type": "markdown",
      "source": [
        "We'll split the data into training and testing sets to evaluate our model’s performance on unseen data."
      ],
      "metadata": {
        "id": "919x11Q0AQjR"
      }
    },
    {
      "cell_type": "code",
      "source": [
        "# Split data into training and testing sets\n",
        "X_train, X_test, y_train, y_test = train_test_split(\n",
        "    X, y, test_size=0.2, random_state=42)\n"
      ],
      "metadata": {
        "id": "Mz505HCtASPE"
      },
      "execution_count": 42,
      "outputs": []
    },
    {
      "cell_type": "markdown",
      "source": [
        "6. ANN Model Design"
      ],
      "metadata": {
        "id": "bo2Yr3meAn8w"
      }
    },
    {
      "cell_type": "markdown",
      "source": [
        "Our model includes an Embedding layer for word embeddings, followed by multiple dense layers with ReLU activation to capture non-linearity, and finally a sigmoid activation function in the output layer for binary classification."
      ],
      "metadata": {
        "id": "MiBb2yKRAn2n"
      }
    },
    {
      "cell_type": "code",
      "source": [
        "# Build the enhanced ANN model\n",
        "model = Sequential()\n",
        "\n",
        "# Embedding layer\n",
        "embedding_dim = 128\n",
        "model.add(Embedding(\n",
        "    input_dim=10000, output_dim=embedding_dim, input_length=max_sequence_length\n",
        "))\n",
        "\n",
        "# Flatten embedding output\n",
        "model.add(Flatten())\n",
        "\n",
        "# First hidden layer\n",
        "model.add(Dense(256, activation='relu'))\n",
        "model.add(BatchNormalization())\n",
        "model.add(Dropout(0.5))\n",
        "\n",
        "# Second hidden layer\n",
        "model.add(Dense(128, activation='relu'))\n",
        "model.add(BatchNormalization())\n",
        "model.add(Dropout(0.5))\n",
        "\n",
        "# Third hidden layer\n",
        "model.add(Dense(64, activation='relu'))\n",
        "model.add(BatchNormalization())\n",
        "model.add(Dropout(0.5))\n",
        "\n",
        "# Output layer\n",
        "model.add(Dense(1, activation='sigmoid'))\n",
        "\n",
        "# Compile the model\n",
        "model.compile(\n",
        "    optimizer=Adam(learning_rate=0.001),\n",
        "    loss='binary_crossentropy',\n",
        "    metrics=['accuracy']\n",
        ")\n",
        "\n",
        "# Implement EarlyStopping and ReduceLROnPlateau\n",
        "#early_stopping = EarlyStopping(monitor='val_loss', patience=4, restore_best_weights=True)\n",
        "#reduce_lr = ReduceLROnPlateau(monitor='val_loss', factor=0.1, patience=2, min_lr=0.00001)\n",
        "# Model summary\n",
        "model.summary()\n"
      ],
      "metadata": {
        "colab": {
          "base_uri": "https://localhost:8080/"
        },
        "id": "a6LC5r3hAobf",
        "outputId": "02509eb2-be67-41f9-fb7d-1b4198768edb"
      },
      "execution_count": 61,
      "outputs": [
        {
          "output_type": "stream",
          "name": "stdout",
          "text": [
            "Model: \"sequential_13\"\n",
            "_________________________________________________________________\n",
            " Layer (type)                Output Shape              Param #   \n",
            "=================================================================\n",
            " embedding_4 (Embedding)     (None, 250, 128)          1280000   \n",
            "                                                                 \n",
            " flatten_4 (Flatten)         (None, 32000)             0         \n",
            "                                                                 \n",
            " dense_44 (Dense)            (None, 256)               8192256   \n",
            "                                                                 \n",
            " batch_normalization_17 (Ba  (None, 256)               1024      \n",
            " tchNormalization)                                               \n",
            "                                                                 \n",
            " dropout_24 (Dropout)        (None, 256)               0         \n",
            "                                                                 \n",
            " dense_45 (Dense)            (None, 128)               32896     \n",
            "                                                                 \n",
            " batch_normalization_18 (Ba  (None, 128)               512       \n",
            " tchNormalization)                                               \n",
            "                                                                 \n",
            " dropout_25 (Dropout)        (None, 128)               0         \n",
            "                                                                 \n",
            " dense_46 (Dense)            (None, 64)                8256      \n",
            "                                                                 \n",
            " batch_normalization_19 (Ba  (None, 64)                256       \n",
            " tchNormalization)                                               \n",
            "                                                                 \n",
            " dropout_26 (Dropout)        (None, 64)                0         \n",
            "                                                                 \n",
            " dense_47 (Dense)            (None, 1)                 65        \n",
            "                                                                 \n",
            "=================================================================\n",
            "Total params: 9515265 (36.30 MB)\n",
            "Trainable params: 9514369 (36.29 MB)\n",
            "Non-trainable params: 896 (3.50 KB)\n",
            "_________________________________________________________________\n"
          ]
        }
      ]
    },
    {
      "cell_type": "markdown",
      "source": [
        "Explanation:\n",
        "\n",
        "- Embedding Layer: Transforms words into dense vectors, capturing semantic relationships.\n",
        "- Dense Layers with ReLU Activation: Allow the model to capture non-linear patterns in the data.\n",
        "Batch Normalization: Speeds up training and stabilizes learning.\n",
        "- Dropout: Prevents overfitting by randomly dropping a fraction of neurons during training.\n",
        "- Sigmoid Activation: Output layer with a sigmoid function produces probabilities for binary classification (positive/negative sentiment).\n",
        "-Binary Cross-Entropy Loss: Suitable for binary classification problems, as it measures the difference between predicted probabilities and actual labels."
      ],
      "metadata": {
        "id": "JYHE7Ab2Av0M"
      }
    },
    {
      "cell_type": "markdown",
      "source": [
        "7. Model Training"
      ],
      "metadata": {
        "id": "kOJGNgHoA4OS"
      }
    },
    {
      "cell_type": "markdown",
      "source": [
        "We'll now train the model on the training data and validate it on the test data"
      ],
      "metadata": {
        "id": "6fijzVmQA4r1"
      }
    },
    {
      "cell_type": "code",
      "source": [
        "# Train the model\n",
        "history = model.fit(\n",
        "    X_train, y_train,\n",
        "    validation_data=(X_test, y_test),\n",
        "    epochs=30,  # Allow more epochs for better learning\n",
        "    batch_size=64,  # Increased batch size\n",
        "    callbacks=[early_stopping, reduce_lr],  # Use callbacks\n",
        "    verbose=1\n",
        ")\n"
      ],
      "metadata": {
        "colab": {
          "base_uri": "https://localhost:8080/"
        },
        "id": "V99kB3-oA5CX",
        "outputId": "07c5d4d6-6010-4449-fff2-0850bd73d011"
      },
      "execution_count": 62,
      "outputs": [
        {
          "output_type": "stream",
          "name": "stdout",
          "text": [
            "Epoch 1/30\n",
            "625/625 [==============================] - 20s 30ms/step - loss: 0.7750 - accuracy: 0.5115 - val_loss: 0.6994 - val_accuracy: 0.5185 - lr: 0.0010\n",
            "Epoch 2/30\n",
            "625/625 [==============================] - 19s 30ms/step - loss: 0.3916 - accuracy: 0.8225 - val_loss: 0.2773 - val_accuracy: 0.8811 - lr: 0.0010\n",
            "Epoch 3/30\n",
            "625/625 [==============================] - 18s 30ms/step - loss: 0.1708 - accuracy: 0.9389 - val_loss: 0.3642 - val_accuracy: 0.8586 - lr: 0.0010\n",
            "Epoch 4/30\n",
            "625/625 [==============================] - 18s 29ms/step - loss: 0.0664 - accuracy: 0.9778 - val_loss: 0.4463 - val_accuracy: 0.8629 - lr: 0.0010\n",
            "Epoch 5/30\n",
            "625/625 [==============================] - 18s 30ms/step - loss: 0.0375 - accuracy: 0.9882 - val_loss: 0.4526 - val_accuracy: 0.8681 - lr: 1.0000e-04\n",
            "Epoch 6/30\n",
            "625/625 [==============================] - 19s 30ms/step - loss: 0.0202 - accuracy: 0.9948 - val_loss: 0.4901 - val_accuracy: 0.8697 - lr: 1.0000e-04\n"
          ]
        }
      ]
    },
    {
      "cell_type": "markdown",
      "source": [
        "Explanation:\n",
        "\n",
        "1. **EarlyStopping**: Monitors the `val_loss` and stops training if it doesn't improve for 3 consecutive epochs (`patience=3`), ensuring the model doesn't overfit by training for too long. It restores the best model weights from the epoch where validation loss was lowest.\n",
        "\n",
        "2. **ReduceLROnPlateau**: Automatically reduces the learning rate when the `val_loss` plateaus for 2 epochs, lowering the learning rate by a factor of 0.2 to help the model fine-tune and converge more effectively. The minimum learning rate is set to `0.0001`.\n",
        "\n",
        "3. **Model Training**: Trains the model for up to 15 epochs with a smaller batch size of 32 (enabling more granular updates). The callbacks optimize the training process by dynamically controlling learning rate and stopping training at the best point to prevent overfitting."
      ],
      "metadata": {
        "id": "Gx9S_wlOCsNI"
      }
    },
    {
      "cell_type": "markdown",
      "source": [
        "8. Model Evaluation and Visualization"
      ],
      "metadata": {
        "id": "YWsiTHRUBD88"
      }
    },
    {
      "cell_type": "markdown",
      "source": [
        "8.1 Accuracy and Loss Curves"
      ],
      "metadata": {
        "id": "Wtuf5dDtBVAl"
      }
    },
    {
      "cell_type": "markdown",
      "source": [
        "We'll visualize the training and validation accuracy and loss over epochs to detect overfitting or underfitting."
      ],
      "metadata": {
        "id": "9pKy_m84BEhz"
      }
    },
    {
      "cell_type": "code",
      "source": [
        "# Plot training and validation accuracy\n",
        "plt.plot(history.history['accuracy'], label='Train Accuracy')\n",
        "plt.plot(history.history['val_accuracy'], label='Validation Accuracy')\n",
        "plt.title('Model Accuracy over Epochs')\n",
        "plt.xlabel('Epoch')\n",
        "plt.ylabel('Accuracy')\n",
        "plt.legend()\n",
        "plt.show()\n",
        "\n",
        "# Plot training and validation loss\n",
        "plt.plot(history.history['loss'], label='Train Loss')\n",
        "plt.plot(history.history['val_loss'], label='Validation Loss')\n",
        "plt.title('Model Loss over Epochs')\n",
        "plt.xlabel('Epoch')\n",
        "plt.ylabel('Loss')\n",
        "plt.legend()\n",
        "plt.show()\n"
      ],
      "metadata": {
        "colab": {
          "base_uri": "https://localhost:8080/",
          "height": 927
        },
        "id": "n-O3dVD7BGqG",
        "outputId": "c326f620-e4b4-4163-c19b-f35c6f23b18f"
      },
      "execution_count": 63,
      "outputs": [
        {
          "output_type": "display_data",
          "data": {
            "text/plain": [
              "<Figure size 640x480 with 1 Axes>"
            ],
            "image/png": "[encoded data removed]"
          },
          "metadata": {}
        },
        {
          "output_type": "display_data",
          "data": {
            "text/plain": [
              "<Figure size 640x480 with 1 Axes>"
            ],
            "image/png": "[encoded data removed]"
          },
          "metadata": {}
        }
      ]
    },
    {
      "cell_type": "markdown",
      "source": [
        "Insight: These plots provide insights into the model's learning behavior, helping us identify potential issues like overfitting."
      ],
      "metadata": {
        "id": "DgtXONOdBJ3U"
      }
    },
    {
      "cell_type": "markdown",
      "source": [
        "8.2. Confusion Matrix"
      ],
      "metadata": {
        "id": "eNyyoD0cBK4Z"
      }
    },
    {
      "cell_type": "markdown",
      "source": [
        "The confusion matrix provides detailed insights into the model's performance by showing how many true positives, true negatives, false positives, and false negatives occurred."
      ],
      "metadata": {
        "id": "kxQe9SLPBOpk"
      }
    },
    {
      "cell_type": "code",
      "source": [
        "# Predict on test data\n",
        "y_pred = (model.predict(X_test) > 0.5).astype(\"int32\")\n",
        "\n",
        "# Confusion matrix\n",
        "cm = confusion_matrix(y_test, y_pred)\n",
        "\n",
        "# Plot confusion matrix\n",
        "sns.heatmap(cm, annot=True, fmt=\"d\", cmap=\"Blues\", xticklabels=['Negative', 'Positive'], yticklabels=['Negative', 'Positive'])\n",
        "plt.title('Confusion Matrix')\n",
        "plt.xlabel('Predicted')\n",
        "plt.ylabel('Actual')\n",
        "plt.show()\n",
        "\n",
        "# Classification report\n",
        "print(\"Classification Report:\\n\", classification_report(y_test, y_pred, target_names=['Negative', 'Positive']))\n"
      ],
      "metadata": {
        "colab": {
          "base_uri": "https://localhost:8080/",
          "height": 663
        },
        "id": "niPQelT3BQKb",
        "outputId": "76ac6578-e9cd-4b69-9264-057dca6930da"
      },
      "execution_count": 64,
      "outputs": [
        {
          "output_type": "stream",
          "name": "stdout",
          "text": [
            "313/313 [==============================] - 1s 4ms/step\n"
          ]
        },
        {
          "output_type": "display_data",
          "data": {
            "text/plain": [
              "<Figure size 640x480 with 2 Axes>"
            ],
            "image/png": "[encoded data removed]"
          },
          "metadata": {}
        },
        {
          "output_type": "stream",
          "name": "stdout",
          "text": [
            "Classification Report:\n",
            "               precision    recall  f1-score   support\n",
            "\n",
            "    Negative       0.87      0.90      0.88      4961\n",
            "    Positive       0.90      0.86      0.88      5039\n",
            "\n",
            "    accuracy                           0.88     10000\n",
            "   macro avg       0.88      0.88      0.88     10000\n",
            "weighted avg       0.88      0.88      0.88     10000\n",
            "\n"
          ]
        }
      ]
    },
    {
      "cell_type": "markdown",
      "source": [
        "Insight: The confusion matrix and classification report offer a deeper understanding of the model's precision, recall, and F1 score for each class.\n",
        "\n"
      ],
      "metadata": {
        "id": "TKNBSQSQBac0"
      }
    },
    {
      "cell_type": "markdown",
      "source": [
        "9. Conclusion"
      ],
      "metadata": {
        "id": "HKW44wFwBa6C"
      }
    },
    {
      "cell_type": "markdown",
      "source": [
        "We built and evaluated an ANN model to classify the sentiment of IMDb movie reviews. Through careful data preprocessing, EDA, and model design using multiple dense layers with ReLU activation, we achieved good performance on both training and test data. Visualization of the accuracy, loss curves, and confusion matrix helped us monitor model performance and detect potential issues like overfitting.\n",
        "\n",
        "In conclusion:\n",
        "\n",
        "The use of ReLU helped capture non-linear patterns in the data.\n",
        "Sigmoid activation in the output layer was essential for binary classification.\n",
        "Binary cross-entropy loss was chosen as it is well-suited for tasks where the output is a probability between 0 and 1.\n",
        "Further improvements could include fine-tuning the model, experimenting with additional architectures, or incorporating advanced methods like LSTMs for sequential data modeling."
      ],
      "metadata": {
        "id": "4WNlXfekBbBf"
      }
    }
  ]
}